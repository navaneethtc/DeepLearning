{
 "cells": [
  {
   "cell_type": "code",
   "execution_count": 1,
   "id": "5ee9890d",
   "metadata": {
    "_cell_guid": "b1076dfc-b9ad-4769-8c92-a6c4dae69d19",
    "_uuid": "8f2839f25d086af736a60e9eeb907d3b93b6e0e5",
    "execution": {
     "iopub.execute_input": "2022-02-09T17:33:41.556603Z",
     "iopub.status.busy": "2022-02-09T17:33:41.546317Z",
     "iopub.status.idle": "2022-02-09T17:33:42.919010Z",
     "shell.execute_reply": "2022-02-09T17:33:42.918191Z",
     "shell.execute_reply.started": "2022-02-09T17:29:43.976022Z"
    },
    "papermill": {
     "duration": 1.383159,
     "end_time": "2022-02-09T17:33:42.919187",
     "exception": false,
     "start_time": "2022-02-09T17:33:41.536028",
     "status": "completed"
    },
    "tags": []
   },
   "outputs": [
    {
     "name": "stdout",
     "output_type": "stream",
     "text": [
      "/kaggle/input/titanic/train.csv\n",
      "/kaggle/input/titanic/test.csv\n",
      "/kaggle/input/titanic/gender_submission.csv\n"
     ]
    }
   ],
   "source": [
    "# This Python 3 environment comes with many helpful analytics libraries installed\n",
    "# It is defined by the kaggle/python Docker image: https://github.com/kaggle/docker-python\n",
    "# For example, here's several helpful packages to load\n",
    "\n",
    "import numpy as np # linear algebra\n",
    "import pandas as pd # data processing, CSV file I/O (e.g. pd.read_csv)\n",
    "from sklearn.tree import DecisionTreeClassifier\n",
    "from sklearn.impute import SimpleImputer\n",
    "\n",
    "# Input data files are available in the read-only \"../input/\" directory\n",
    "# For example, running this (by clicking run or pressing Shift+Enter) will list all files under the input directory\n",
    "\n",
    "import os\n",
    "for dirname, _, filenames in os.walk('/kaggle/input'):\n",
    "    for filename in filenames:\n",
    "        print(os.path.join(dirname, filename))\n",
    "\n",
    "# You can write up to 20GB to the current directory (/kaggle/working/) that gets preserved as output when you create a version using \"Save & Run All\" \n",
    "# You can also write temporary files to /kaggle/temp/, but they won't be saved outside of the current session"
   ]
  },
  {
   "cell_type": "code",
   "execution_count": 2,
   "id": "65504f0e",
   "metadata": {
    "execution": {
     "iopub.execute_input": "2022-02-09T17:33:42.938793Z",
     "iopub.status.busy": "2022-02-09T17:33:42.938111Z",
     "iopub.status.idle": "2022-02-09T17:33:42.995716Z",
     "shell.execute_reply": "2022-02-09T17:33:42.995196Z",
     "shell.execute_reply.started": "2022-02-09T17:29:45.156900Z"
    },
    "papermill": {
     "duration": 0.071645,
     "end_time": "2022-02-09T17:33:42.995868",
     "exception": false,
     "start_time": "2022-02-09T17:33:42.924223",
     "status": "completed"
    },
    "tags": []
   },
   "outputs": [
    {
     "name": "stdout",
     "output_type": "stream",
     "text": [
      "418\n"
     ]
    }
   ],
   "source": [
    "train_data            = pd.read_csv('/kaggle/input/titanic/train.csv')\n",
    "test_data             = pd.read_csv('/kaggle/input/titanic/test.csv')\n",
    "\n",
    "train_data.Sex        = pd.Categorical(train_data.Sex)\n",
    "train_data['Gender']  = train_data.Sex.cat.codes\n",
    "test_data.Sex         = pd.Categorical(test_data.Sex)\n",
    "test_data['Gender']   = test_data.Sex.cat.codes\n",
    "\n",
    "x_headers             = ['Gender','Age','Fare','Pclass']\n",
    "y_headers             = ['Survived']\n",
    "\n",
    "train_data            = train_data[x_headers+y_headers]\n",
    "#train_data            = train_data.dropna()\n",
    "test_data             = test_data[x_headers]\n",
    "#test_data_no_nan      = test_data.dropna()\n",
    "\n",
    "\n",
    "print(len(test_data))\n",
    "X                     = train_data[x_headers]\n",
    "X_test                = test_data[x_headers]\n",
    "Y                     = train_data[y_headers]\n",
    "imp                   = SimpleImputer(missing_values=np.nan, strategy='mean')\n",
    "imp                   = imp.fit(X)\n",
    "X                     = imp.transform(X)\n",
    "imp                   = imp.fit(X_test)\n",
    "X_test                = imp.transform(X_test)\n",
    "\n",
    "test_data.Age.fillna(test_data.Gender, inplace=True)"
   ]
  },
  {
   "cell_type": "code",
   "execution_count": 3,
   "id": "85b639ea",
   "metadata": {
    "execution": {
     "iopub.execute_input": "2022-02-09T17:33:43.013550Z",
     "iopub.status.busy": "2022-02-09T17:33:43.011885Z",
     "iopub.status.idle": "2022-02-09T17:33:43.024312Z",
     "shell.execute_reply": "2022-02-09T17:33:43.023480Z",
     "shell.execute_reply.started": "2022-02-09T17:33:01.786543Z"
    },
    "papermill": {
     "duration": 0.023827,
     "end_time": "2022-02-09T17:33:43.024461",
     "exception": false,
     "start_time": "2022-02-09T17:33:43.000634",
     "status": "completed"
    },
    "tags": []
   },
   "outputs": [
    {
     "name": "stdout",
     "output_type": "stream",
     "text": [
      "418\n"
     ]
    }
   ],
   "source": [
    "model                = DecisionTreeClassifier()\n",
    "model.fit(X,Y)\n",
    "predictions          = model.predict(X_test)\n",
    "print(predictions.size)\n",
    "df = pd.DataFrame({'y':predictions})\n",
    "df.to_csv('mycsvfile.csv',index=False)"
   ]
  }
 ],
 "metadata": {
  "kernelspec": {
   "display_name": "Python 3",
   "language": "python",
   "name": "python3"
  },
  "language_info": {
   "codemirror_mode": {
    "name": "ipython",
    "version": 3
   },
   "file_extension": ".py",
   "mimetype": "text/x-python",
   "name": "python",
   "nbconvert_exporter": "python",
   "pygments_lexer": "ipython3",
   "version": "3.7.12"
  },
  "papermill": {
   "default_parameters": {},
   "duration": 12.786078,
   "end_time": "2022-02-09T17:33:43.740367",
   "environment_variables": {},
   "exception": null,
   "input_path": "__notebook__.ipynb",
   "output_path": "__notebook__.ipynb",
   "parameters": {},
   "start_time": "2022-02-09T17:33:30.954289",
   "version": "2.3.3"
  }
 },
 "nbformat": 4,
 "nbformat_minor": 5
}

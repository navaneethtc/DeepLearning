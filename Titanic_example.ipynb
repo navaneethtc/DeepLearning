{
 "cells": [
  {
   "cell_type": "code",
   "execution_count": 1,
   "id": "8e0912c1",
   "metadata": {
    "_cell_guid": "b1076dfc-b9ad-4769-8c92-a6c4dae69d19",
    "_uuid": "8f2839f25d086af736a60e9eeb907d3b93b6e0e5",
    "execution": {
     "iopub.execute_input": "2022-02-09T17:50:42.434000Z",
     "iopub.status.busy": "2022-02-09T17:50:42.432905Z",
     "iopub.status.idle": "2022-02-09T17:50:43.606797Z",
     "shell.execute_reply": "2022-02-09T17:50:43.605912Z",
     "shell.execute_reply.started": "2022-02-09T17:48:01.634573Z"
    },
    "papermill": {
     "duration": 1.182344,
     "end_time": "2022-02-09T17:50:43.607015",
     "exception": false,
     "start_time": "2022-02-09T17:50:42.424671",
     "status": "completed"
    },
    "tags": []
   },
   "outputs": [
    {
     "name": "stdout",
     "output_type": "stream",
     "text": [
      "/kaggle/input/titanic/train.csv\n",
      "/kaggle/input/titanic/test.csv\n",
      "/kaggle/input/titanic/gender_submission.csv\n"
     ]
    }
   ],
   "source": [
    "# This Python 3 environment comes with many helpful analytics libraries installed\n",
    "# It is defined by the kaggle/python Docker image: https://github.com/kaggle/docker-python\n",
    "# For example, here's several helpful packages to load\n",
    "\n",
    "import numpy as np # linear algebra\n",
    "import pandas as pd # data processing, CSV file I/O (e.g. pd.read_csv)\n",
    "from sklearn.tree import DecisionTreeClassifier\n",
    "from sklearn.impute import SimpleImputer\n",
    "\n",
    "# Input data files are available in the read-only \"../input/\" directory\n",
    "# For example, running this (by clicking run or pressing Shift+Enter) will list all files under the input directory\n",
    "\n",
    "import os\n",
    "for dirname, _, filenames in os.walk('/kaggle/input'):\n",
    "    for filename in filenames:\n",
    "        print(os.path.join(dirname, filename))\n",
    "\n",
    "# You can write up to 20GB to the current directory (/kaggle/working/) that gets preserved as output when you create a version using \"Save & Run All\" \n",
    "# You can also write temporary files to /kaggle/temp/, but they won't be saved outside of the current session"
   ]
  },
  {
   "cell_type": "code",
   "execution_count": 2,
   "id": "757c93c9",
   "metadata": {
    "execution": {
     "iopub.execute_input": "2022-02-09T17:50:43.622664Z",
     "iopub.status.busy": "2022-02-09T17:50:43.622105Z",
     "iopub.status.idle": "2022-02-09T17:50:43.672739Z",
     "shell.execute_reply": "2022-02-09T17:50:43.673718Z",
     "shell.execute_reply.started": "2022-02-09T17:48:01.646649Z"
    },
    "papermill": {
     "duration": 0.06208,
     "end_time": "2022-02-09T17:50:43.674028",
     "exception": false,
     "start_time": "2022-02-09T17:50:43.611948",
     "status": "completed"
    },
    "tags": []
   },
   "outputs": [
    {
     "name": "stdout",
     "output_type": "stream",
     "text": [
      "418\n"
     ]
    }
   ],
   "source": [
    "train_data            = pd.read_csv('/kaggle/input/titanic/train.csv')\n",
    "test_data             = pd.read_csv('/kaggle/input/titanic/test.csv')\n",
    "\n",
    "train_data.Sex        = pd.Categorical(train_data.Sex)\n",
    "train_data['Gender']  = train_data.Sex.cat.codes\n",
    "test_data.Sex         = pd.Categorical(test_data.Sex)\n",
    "test_data_1           = test_data\n",
    "test_data_1['Gender'] = test_data.Sex.cat.codes\n",
    "\n",
    "x_headers             = ['Gender','Age','Fare','Pclass']\n",
    "y_headers             = ['Survived']\n",
    "\n",
    "train_data            = train_data[x_headers+y_headers]\n",
    "#train_data            = train_data.dropna()\n",
    "test_data_1           = test_data_1[x_headers]\n",
    "#test_data_no_nan      = test_data.dropna()\n",
    "\n",
    "\n",
    "print(len(test_data))\n",
    "X                     = train_data[x_headers]\n",
    "X_test                = test_data_1[x_headers]\n",
    "Y                     = train_data[y_headers]\n",
    "imp                   = SimpleImputer(missing_values=np.nan, strategy='mean')\n",
    "imp                   = imp.fit(X)\n",
    "X                     = imp.transform(X)\n",
    "imp                   = imp.fit(X_test)\n",
    "X_test                = imp.transform(X_test)"
   ]
  },
  {
   "cell_type": "code",
   "execution_count": 3,
   "id": "428fc327",
   "metadata": {
    "execution": {
     "iopub.execute_input": "2022-02-09T17:50:43.688513Z",
     "iopub.status.busy": "2022-02-09T17:50:43.687909Z",
     "iopub.status.idle": "2022-02-09T17:50:43.699689Z",
     "shell.execute_reply": "2022-02-09T17:50:43.700180Z",
     "shell.execute_reply.started": "2022-02-09T17:49:38.865964Z"
    },
    "papermill": {
     "duration": 0.021836,
     "end_time": "2022-02-09T17:50:43.700339",
     "exception": false,
     "start_time": "2022-02-09T17:50:43.678503",
     "status": "completed"
    },
    "tags": []
   },
   "outputs": [
    {
     "name": "stdout",
     "output_type": "stream",
     "text": [
      "418\n"
     ]
    }
   ],
   "source": [
    "model                = DecisionTreeClassifier()\n",
    "model.fit(X,Y)\n",
    "predictions          = model.predict(X_test)\n",
    "print(predictions.size)\n",
    "df = pd.DataFrame({'PassengerId':test_data['PassengerId'],'Survived':predictions})\n",
    "df.to_csv('mycsvfile.csv',index=False)"
   ]
  }
 ],
 "metadata": {
  "kernelspec": {
   "display_name": "Python 3",
   "language": "python",
   "name": "python3"
  },
  "language_info": {
   "codemirror_mode": {
    "name": "ipython",
    "version": 3
   },
   "file_extension": ".py",
   "mimetype": "text/x-python",
   "name": "python",
   "nbconvert_exporter": "python",
   "pygments_lexer": "ipython3",
   "version": "3.7.12"
  },
  "papermill": {
   "default_parameters": {},
   "duration": 10.089752,
   "end_time": "2022-02-09T17:50:44.416519",
   "environment_variables": {},
   "exception": null,
   "input_path": "__notebook__.ipynb",
   "output_path": "__notebook__.ipynb",
   "parameters": {},
   "start_time": "2022-02-09T17:50:34.326767",
   "version": "2.3.3"
  }
 },
 "nbformat": 4,
 "nbformat_minor": 5
}
